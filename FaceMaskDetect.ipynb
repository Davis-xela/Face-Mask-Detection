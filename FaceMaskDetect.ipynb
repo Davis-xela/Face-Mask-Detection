{
 "cells": [
  {
   "cell_type": "code",
   "execution_count": 1,
   "metadata": {},
   "outputs": [
    {
     "name": "stdout",
     "output_type": "stream",
     "text": [
      "{'without mask': 0, 'with mask': 1}\n",
      "['without mask', 'with mask']\n",
      "[0, 1]\n"
     ]
    }
   ],
   "source": [
    "import cv2,os\n",
    "\n",
    "data_path='dataset'\n",
    "categories=os.listdir(data_path)\n",
    "labels=[i for i in range(len(categories))]\n",
    "\n",
    "label_dict=dict(zip(categories,labels))\n",
    "\n",
    "print(label_dict)\n",
    "print(categories)\n",
    "print(labels)"
   ]
  },
  {
   "cell_type": "code",
   "execution_count": 2,
   "metadata": {},
   "outputs": [],
   "source": [
    "img_size=100\n",
    "data=[]\n",
    "target=[]\n",
    "\n",
    "\n",
    "for category in categories:\n",
    "    folder_path=os.path.join(data_path,category)\n",
    "    img_names=os.listdir(folder_path)\n",
    "        \n",
    "    for img_name in img_names:\n",
    "        img_path=os.path.join(folder_path,img_name)\n",
    "        img=cv2.imread(img_path)\n",
    "\n",
    "        try:\n",
    "            gray=cv2.cvtColor(img,cv2.COLOR_BGR2GRAY)           \n",
    "            resized=cv2.resize(gray,(img_size,img_size))\n",
    "            data.append(resized)\n",
    "            target.append(label_dict[category])\n",
    "            \n",
    "        except Exception as e:\n",
    "            print('Exception:',e)"
   ]
  },
  {
   "cell_type": "code",
   "execution_count": 3,
   "metadata": {},
   "outputs": [
    {
     "name": "stderr",
     "output_type": "stream",
     "text": [
      "Using TensorFlow backend.\n",
      "/Users/xela/opt/anaconda3/lib/python3.7/site-packages/tensorflow/python/framework/dtypes.py:516: FutureWarning: Passing (type, 1) or '1type' as a synonym of type is deprecated; in a future version of numpy, it will be understood as (type, (1,)) / '(1,)type'.\n",
      "  _np_qint8 = np.dtype([(\"qint8\", np.int8, 1)])\n",
      "/Users/xela/opt/anaconda3/lib/python3.7/site-packages/tensorflow/python/framework/dtypes.py:517: FutureWarning: Passing (type, 1) or '1type' as a synonym of type is deprecated; in a future version of numpy, it will be understood as (type, (1,)) / '(1,)type'.\n",
      "  _np_quint8 = np.dtype([(\"quint8\", np.uint8, 1)])\n",
      "/Users/xela/opt/anaconda3/lib/python3.7/site-packages/tensorflow/python/framework/dtypes.py:518: FutureWarning: Passing (type, 1) or '1type' as a synonym of type is deprecated; in a future version of numpy, it will be understood as (type, (1,)) / '(1,)type'.\n",
      "  _np_qint16 = np.dtype([(\"qint16\", np.int16, 1)])\n",
      "/Users/xela/opt/anaconda3/lib/python3.7/site-packages/tensorflow/python/framework/dtypes.py:519: FutureWarning: Passing (type, 1) or '1type' as a synonym of type is deprecated; in a future version of numpy, it will be understood as (type, (1,)) / '(1,)type'.\n",
      "  _np_quint16 = np.dtype([(\"quint16\", np.uint16, 1)])\n",
      "/Users/xela/opt/anaconda3/lib/python3.7/site-packages/tensorflow/python/framework/dtypes.py:520: FutureWarning: Passing (type, 1) or '1type' as a synonym of type is deprecated; in a future version of numpy, it will be understood as (type, (1,)) / '(1,)type'.\n",
      "  _np_qint32 = np.dtype([(\"qint32\", np.int32, 1)])\n",
      "/Users/xela/opt/anaconda3/lib/python3.7/site-packages/tensorflow/python/framework/dtypes.py:525: FutureWarning: Passing (type, 1) or '1type' as a synonym of type is deprecated; in a future version of numpy, it will be understood as (type, (1,)) / '(1,)type'.\n",
      "  np_resource = np.dtype([(\"resource\", np.ubyte, 1)])\n",
      "/Users/xela/opt/anaconda3/lib/python3.7/site-packages/tensorboard/compat/tensorflow_stub/dtypes.py:541: FutureWarning: Passing (type, 1) or '1type' as a synonym of type is deprecated; in a future version of numpy, it will be understood as (type, (1,)) / '(1,)type'.\n",
      "  _np_qint8 = np.dtype([(\"qint8\", np.int8, 1)])\n",
      "/Users/xela/opt/anaconda3/lib/python3.7/site-packages/tensorboard/compat/tensorflow_stub/dtypes.py:542: FutureWarning: Passing (type, 1) or '1type' as a synonym of type is deprecated; in a future version of numpy, it will be understood as (type, (1,)) / '(1,)type'.\n",
      "  _np_quint8 = np.dtype([(\"quint8\", np.uint8, 1)])\n",
      "/Users/xela/opt/anaconda3/lib/python3.7/site-packages/tensorboard/compat/tensorflow_stub/dtypes.py:543: FutureWarning: Passing (type, 1) or '1type' as a synonym of type is deprecated; in a future version of numpy, it will be understood as (type, (1,)) / '(1,)type'.\n",
      "  _np_qint16 = np.dtype([(\"qint16\", np.int16, 1)])\n",
      "/Users/xela/opt/anaconda3/lib/python3.7/site-packages/tensorboard/compat/tensorflow_stub/dtypes.py:544: FutureWarning: Passing (type, 1) or '1type' as a synonym of type is deprecated; in a future version of numpy, it will be understood as (type, (1,)) / '(1,)type'.\n",
      "  _np_quint16 = np.dtype([(\"quint16\", np.uint16, 1)])\n",
      "/Users/xela/opt/anaconda3/lib/python3.7/site-packages/tensorboard/compat/tensorflow_stub/dtypes.py:545: FutureWarning: Passing (type, 1) or '1type' as a synonym of type is deprecated; in a future version of numpy, it will be understood as (type, (1,)) / '(1,)type'.\n",
      "  _np_qint32 = np.dtype([(\"qint32\", np.int32, 1)])\n",
      "/Users/xela/opt/anaconda3/lib/python3.7/site-packages/tensorboard/compat/tensorflow_stub/dtypes.py:550: FutureWarning: Passing (type, 1) or '1type' as a synonym of type is deprecated; in a future version of numpy, it will be understood as (type, (1,)) / '(1,)type'.\n",
      "  np_resource = np.dtype([(\"resource\", np.ubyte, 1)])\n"
     ]
    }
   ],
   "source": [
    "import numpy as np\n",
    "\n",
    "data=np.array(data)/255.0\n",
    "data=np.reshape(data,(data.shape[0],img_size,img_size,1))\n",
    "target=np.array(target)\n",
    "\n",
    "from keras.utils import np_utils\n",
    "\n",
    "new_target=np_utils.to_categorical(target)"
   ]
  },
  {
   "cell_type": "code",
   "execution_count": 4,
   "metadata": {},
   "outputs": [
    {
     "name": "stdout",
     "output_type": "stream",
     "text": [
      "WARNING:tensorflow:From /Users/xela/opt/anaconda3/lib/python3.7/site-packages/keras/backend/tensorflow_backend.py:4070: The name tf.nn.max_pool is deprecated. Please use tf.nn.max_pool2d instead.\n",
      "\n"
     ]
    }
   ],
   "source": [
    "from keras.models import Sequential\n",
    "from keras.layers import Dense,Activation,Flatten,Dropout\n",
    "from keras.layers import Conv2D,MaxPooling2D\n",
    "from keras.callbacks import ModelCheckpoint\n",
    "\n",
    "model=Sequential()\n",
    "\n",
    "model.add(Conv2D(200,(3,3),input_shape=data.shape[1:]))\n",
    "model.add(Activation('relu'))\n",
    "model.add(MaxPooling2D(pool_size=(2,2)))\n",
    "\n",
    "model.add(Conv2D(100,(3,3)))\n",
    "model.add(Activation('relu'))\n",
    "model.add(MaxPooling2D(pool_size=(2,2)))\n",
    "\n",
    "model.add(Flatten())\n",
    "model.add(Dropout(0.5))\n",
    "model.add(Dense(50,activation='relu'))\n",
    "model.add(Dense(2,activation='softmax'))\n",
    "\n",
    "\n",
    "model.compile(loss='sparse_categorical_crossentropy',optimizer='adam',metrics=['accuracy'])\n"
   ]
  },
  {
   "cell_type": "code",
   "execution_count": 5,
   "metadata": {},
   "outputs": [],
   "source": [
    "from sklearn.model_selection import train_test_split\n",
    "\n",
    "train_data,test_data,train_target,test_target=train_test_split(data,target,test_size=0.1)"
   ]
  },
  {
   "cell_type": "code",
   "execution_count": 6,
   "metadata": {},
   "outputs": [
    {
     "name": "stdout",
     "output_type": "stream",
     "text": [
      "WARNING:tensorflow:From /Users/xela/opt/anaconda3/lib/python3.7/site-packages/keras/backend/tensorflow_backend.py:422: The name tf.global_variables is deprecated. Please use tf.compat.v1.global_variables instead.\n",
      "\n",
      "Train on 990 samples, validate on 248 samples\n",
      "Epoch 1/10\n",
      "990/990 [==============================] - 79s 80ms/step - loss: 0.6928 - accuracy: 0.5333 - val_loss: 0.6167 - val_accuracy: 0.6331\n",
      "Epoch 2/10\n",
      "990/990 [==============================] - 75s 76ms/step - loss: 0.5586 - accuracy: 0.7152 - val_loss: 0.4424 - val_accuracy: 0.8266\n",
      "Epoch 3/10\n",
      "990/990 [==============================] - 76s 77ms/step - loss: 0.3767 - accuracy: 0.8465 - val_loss: 0.4206 - val_accuracy: 0.8589\n",
      "Epoch 4/10\n",
      "990/990 [==============================] - 80s 81ms/step - loss: 0.2792 - accuracy: 0.8848 - val_loss: 0.2626 - val_accuracy: 0.9113\n",
      "Epoch 5/10\n",
      "990/990 [==============================] - 83s 84ms/step - loss: 0.1893 - accuracy: 0.9323 - val_loss: 0.2290 - val_accuracy: 0.9073\n",
      "Epoch 6/10\n",
      "990/990 [==============================] - 81s 82ms/step - loss: 0.1535 - accuracy: 0.9495 - val_loss: 0.2248 - val_accuracy: 0.9153\n",
      "Epoch 7/10\n",
      "990/990 [==============================] - 82s 83ms/step - loss: 0.1382 - accuracy: 0.9475 - val_loss: 0.2706 - val_accuracy: 0.8871\n",
      "Epoch 8/10\n",
      "990/990 [==============================] - 74s 75ms/step - loss: 0.1590 - accuracy: 0.9434 - val_loss: 0.2023 - val_accuracy: 0.9153\n",
      "Epoch 9/10\n",
      "990/990 [==============================] - 68s 69ms/step - loss: 0.0966 - accuracy: 0.9677 - val_loss: 0.2196 - val_accuracy: 0.9315\n",
      "Epoch 10/10\n",
      "990/990 [==============================] - 70s 71ms/step - loss: 0.0636 - accuracy: 0.9808 - val_loss: 0.1839 - val_accuracy: 0.9395\n"
     ]
    }
   ],
   "source": [
    "history=model.fit(train_data,train_target,epochs=10,validation_split=0.2)"
   ]
  },
  {
   "cell_type": "code",
   "execution_count": 7,
   "metadata": {},
   "outputs": [
    {
     "data": {
      "image/png": "[encoded data removed]",
      "text/plain": [
       "<Figure size 432x288 with 1 Axes>"
      ]
     },
     "metadata": {
      "needs_background": "light"
     },
     "output_type": "display_data"
    }
   ],
   "source": [
    "from matplotlib import pyplot as plt\n",
    "\n",
    "plt.plot(history.history['loss'],'r',label='training loss')\n",
    "plt.plot(history.history['val_loss'],label='validation loss')\n",
    "plt.xlabel('# epochs')\n",
    "plt.ylabel('loss')\n",
    "plt.legend()\n",
    "plt.show()"
   ]
  },
  {
   "cell_type": "code",
   "execution_count": 8,
   "metadata": {},
   "outputs": [
    {
     "data": {
      "image/png": "[encoded data removed]",
      "text/plain": [
       "<Figure size 432x288 with 1 Axes>"
      ]
     },
     "metadata": {
      "needs_background": "light"
     },
     "output_type": "display_data"
    }
   ],
   "source": [
    "plt.plot(history.history['accuracy'],'r',label='training accuracy')\n",
    "plt.plot(history.history['val_accuracy'],label='validation accuracy')\n",
    "plt.xlabel('# epochs')\n",
    "plt.ylabel('loss')\n",
    "plt.legend()\n",
    "plt.show()"
   ]
  },
  {
   "cell_type": "code",
   "execution_count": 9,
   "metadata": {},
   "outputs": [
    {
     "name": "stdout",
     "output_type": "stream",
     "text": [
      "138/138 [==============================] - 3s 25ms/step\n",
      "[0.13747147195365117, 0.9420289993286133]\n"
     ]
    }
   ],
   "source": [
    "print(model.evaluate(test_data,test_target))"
   ]
  },
  {
   "cell_type": "code",
   "execution_count": 30,
   "metadata": {},
   "outputs": [],
   "source": [
    "face_clsfr=cv2.CascadeClassifier('haarcascade_frontalface_default.xml')\n",
    "\n",
    "source=cv2.VideoCapture(0)\n",
    "\n",
    "labels_dict={0:'NO MASK',1:'MASK'}\n",
    "color_dict={0:(0,0,255),1:(0,255,0)}"
   ]
  },
  {
   "cell_type": "code",
   "execution_count": 31,
   "metadata": {},
   "outputs": [
    {
     "name": "stdout",
     "output_type": "stream",
     "text": [
      "[[0.99283445 0.00716556]]\n",
      "[[0.9936574 0.0063426]]\n",
      "[[0.99380505 0.00619501]]\n",
      "[[0.9942251 0.0057749]]\n",
      "[[0.9939843  0.00601573]]\n",
      "[[0.9946313  0.00536866]]\n",
      "[[0.99496776 0.00503221]]\n",
      "[[0.9941401  0.00585984]]\n",
      "[[0.9936061  0.00639386]]\n",
      "[[0.9944089  0.00559101]]\n",
      "[[0.9935895  0.00641047]]\n",
      "[[0.99562633 0.00437366]]\n",
      "[[0.9953235  0.00467648]]\n",
      "[[0.9944577 0.0055423]]\n",
      "[[0.995171   0.00482901]]\n",
      "[[0.99392277 0.00607722]]\n",
      "[[0.9949897  0.00501026]]\n",
      "[[0.99336773 0.00663224]]\n",
      "[[0.9928227  0.00717738]]\n",
      "[[0.99351466 0.00648531]]\n",
      "[[0.9940356  0.00596441]]\n",
      "[[0.9943322  0.00566783]]\n",
      "[[0.99266726 0.00733272]]\n",
      "[[0.99254495 0.00745498]]\n",
      "[[0.9914048  0.00859516]]\n",
      "[[0.993131 0.006869]]\n",
      "[[0.99360704 0.0063929 ]]\n",
      "[[0.99387085 0.00612913]]\n",
      "[[0.9928451  0.00715487]]\n",
      "[[0.9837944  0.01620567]]\n",
      "[[0.9683887  0.03161131]]\n",
      "[[0.9901113  0.00988869]]\n",
      "[[0.9904545  0.00954552]]\n",
      "[[0.9922524  0.00774764]]\n",
      "[[0.9905257  0.00947421]]\n",
      "[[0.9922092  0.00779075]]\n",
      "[[0.9919565  0.00804356]]\n",
      "[[0.9923437  0.00765629]]\n",
      "[[0.9928462  0.00715386]]\n",
      "[[0.99345124 0.0065487 ]]\n",
      "[[0.9930067  0.00699328]]\n",
      "[[0.9925874 0.0074126]]\n",
      "[[0.9930356  0.00696434]]\n",
      "[[0.99315053 0.00684952]]\n",
      "[[0.99364704 0.00635296]]\n",
      "[[0.99307406 0.00692593]]\n",
      "[[0.9932549  0.00674505]]\n",
      "[[0.99312556 0.00687443]]\n",
      "[[0.9920387  0.00796122]]\n",
      "[[0.99161947 0.00838053]]\n",
      "[[0.99285406 0.007146  ]]\n",
      "[[0.99268746 0.00731249]]\n",
      "[[0.9925438  0.00745625]]\n",
      "[[0.99221987 0.00778014]]\n",
      "[[0.991417   0.00858305]]\n",
      "[[0.9908009  0.00919903]]\n",
      "[[0.99133706 0.00866293]]\n",
      "[[0.9908408  0.00915915]]\n",
      "[[0.9911748  0.00882512]]\n",
      "[[0.99141896 0.00858106]]\n",
      "[[0.9918332  0.00816672]]\n",
      "[[0.9910443  0.00895572]]\n",
      "[[0.99139374 0.00860628]]\n",
      "[[0.9924117  0.00758828]]\n",
      "[[0.99175864 0.00824135]]\n",
      "[[0.99244624 0.00755378]]\n",
      "[[0.9921417  0.00785825]]\n",
      "[[0.9911641  0.00883599]]\n",
      "[[0.9909905  0.00900947]]\n",
      "[[0.9917734  0.00822659]]\n",
      "[[0.99173236 0.00826761]]\n",
      "[[0.99083066 0.00916941]]\n",
      "[[0.9913333  0.00866671]]\n",
      "[[0.9921588  0.00784119]]\n",
      "[[0.99091095 0.00908911]]\n",
      "[[0.9911048  0.00889514]]\n",
      "[[0.99104977 0.00895023]]\n",
      "[[0.99054587 0.00945417]]\n",
      "[[0.9905758  0.00942415]]\n",
      "[[0.9905138  0.00948619]]\n",
      "[[0.9920608  0.00793921]]\n",
      "[[0.99078125 0.00921869]]\n",
      "[[0.9907699 0.0092301]]\n",
      "[[0.9919286  0.00807148]]\n",
      "[[0.99215007 0.00784988]]\n",
      "[[0.99220896 0.00779097]]\n",
      "[[0.9915665 0.0084335]]\n",
      "[[0.9910521  0.00894788]]\n",
      "[[0.99121654 0.00878353]]\n",
      "[[0.99125516 0.00874479]]\n",
      "[[0.9787715  0.02122856]]\n",
      "[[0.98956454 0.01043544]]\n",
      "[[0.99156487 0.00843511]]\n",
      "[[0.9908407 0.0091593]]\n",
      "[[0.990533   0.00946704]]\n",
      "[[0.9907863  0.00921373]]\n",
      "[[0.99048316 0.00951679]]\n",
      "[[0.9914812  0.00851881]]\n",
      "[[0.99050117 0.00949888]]\n",
      "[[0.99047333 0.00952666]]\n",
      "[[0.9908137  0.00918635]]\n",
      "[[0.9883482  0.01165182]]\n",
      "[[0.99118936 0.00881064]]\n",
      "[[0.9925875  0.00741254]]\n",
      "[[0.99369335 0.00630671]]\n",
      "[[0.9928946  0.00710545]]\n",
      "[[0.9938871  0.00611285]]\n",
      "[[0.99058634 0.00941365]]\n",
      "[[0.99002177 0.00997825]]\n",
      "[[0.98980963 0.0101904 ]]\n",
      "[[0.98741025 0.01258971]]\n",
      "[[0.99160814 0.00839193]]\n",
      "[[0.9951723  0.00482772]]\n",
      "[[0.994574   0.00542601]]\n",
      "[[0.9892463  0.01075369]]\n",
      "[[0.9899905  0.01000952]]\n",
      "[[0.99193704 0.00806301]]\n",
      "[[0.9882901  0.01170994]]\n",
      "[[0.98977953 0.01022054]]\n",
      "[[0.98949134 0.01050859]]\n",
      "[[0.9881947  0.01180527]]\n",
      "[[0.99136436 0.00863563]]\n",
      "[[0.9915782  0.00842181]]\n",
      "[[0.9920218  0.00797823]]\n",
      "[[0.9917373  0.00826269]]\n",
      "[[0.99152595 0.008474  ]]\n",
      "[[0.9938023  0.00619766]]\n",
      "[[0.9913412  0.00865884]]\n",
      "[[0.991512   0.00848801]]\n",
      "[[0.9926428  0.00735716]]\n",
      "[[0.98870254 0.01129743]]\n",
      "[[0.9892992  0.01070081]]\n",
      "[[0.9855613  0.01443872]]\n",
      "[[0.9897113  0.01028873]]\n",
      "[[0.9908145  0.00918557]]\n",
      "[[0.98977125 0.01022882]]\n",
      "[[0.98786175 0.01213826]]\n",
      "[[0.98834467 0.01165529]]\n",
      "[[0.98866886 0.01133114]]\n",
      "[[0.9861821  0.01381795]]\n",
      "[[0.9878507  0.01214932]]\n",
      "[[0.992409   0.00759103]]\n",
      "[[0.9936045  0.00639549]]\n",
      "[[0.9941492  0.00585083]]\n",
      "[[0.9948236  0.00517639]]\n",
      "[[0.99217063 0.00782939]]\n",
      "[[0.99092954 0.00907045]]\n",
      "[[0.98595667 0.0140433 ]]\n",
      "[[0.99071294 0.00928712]]\n",
      "[[0.99575776 0.00424218]]\n",
      "[[0.993361   0.00663894]]\n",
      "[[0.9942152  0.00578477]]\n",
      "[[0.9927314  0.00726859]]\n",
      "[[0.9946407 0.0053593]]\n",
      "[[0.9936103  0.00638961]]\n",
      "[[0.99413127 0.0058687 ]]\n",
      "[[0.9936336  0.00636635]]\n",
      "[[0.99343336 0.0065666 ]]\n",
      "[[0.99488515 0.0051148 ]]\n"
     ]
    }
   ],
   "source": [
    "while(True):\n",
    "\n",
    "    ret,img=source.read()\n",
    "    gray=cv2.cvtColor(img,cv2.COLOR_BGR2GRAY)\n",
    "    faces=face_clsfr.detectMultiScale(gray,1.3,5)  \n",
    "\n",
    "    for x,y,w,h in faces:\n",
    "    \n",
    "        face_img=gray[y:y+w,x:x+w]\n",
    "        resized=cv2.resize(face_img,(100,100))\n",
    "        normalized=resized/255.0\n",
    "        reshaped=np.reshape(normalized,(1,100,100,1))\n",
    "        result=model.predict(reshaped)\n",
    "        print(result)\n",
    "        label=np.argmax(result,axis=1)[0]\n",
    "      \n",
    "        cv2.rectangle(img,(x,y),(x+w,y+h),color_dict[label],2)\n",
    "        cv2.rectangle(img,(x,y-40),(x+w,y),color_dict[label],-1)\n",
    "        cv2.putText(img, labels_dict[label], (x, y-10),cv2.FONT_HERSHEY_SIMPLEX,0.8,(255,255,255),2)\n",
    "        \n",
    "    cv2.imshow('LIVE',img)\n",
    "    key=cv2.waitKey(1)\n",
    "    \n",
    "    if(key==27):\n",
    "        break\n",
    "        \n",
    "cv2.destroyAllWindows()\n",
    "source.release()"
   ]
  },
  {
   "cell_type": "code",
   "execution_count": null,
   "metadata": {},
   "outputs": [],
   "source": []
  }
 ],
 "metadata": {
  "kernelspec": {
   "display_name": "Python 3",
   "language": "python",
   "name": "python3"
  },
  "language_info": {
   "codemirror_mode": {
    "name": "ipython",
    "version": 3
   },
   "file_extension": ".py",
   "mimetype": "text/x-python",
   "name": "python",
   "nbconvert_exporter": "python",
   "pygments_lexer": "ipython3",
   "version": "3.7.6"
  }
 },
 "nbformat": 4,
 "nbformat_minor": 4
}
